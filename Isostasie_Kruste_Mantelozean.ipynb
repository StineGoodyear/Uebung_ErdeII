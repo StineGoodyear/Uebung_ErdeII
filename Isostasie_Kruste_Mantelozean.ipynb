{
 "cells": [
  {
   "cell_type": "markdown",
   "metadata": {},
   "source": [
    "# Interaktives Beispiel: Kruste in Mantel-\"Ozean\"\n",
    "\n",
    "Anstelle eines Eisberges tritt nun ein Krustenblock, der auf einem Ozean aus Mantelmaterial \"schwimmt\". \n",
    "\n",
    "- Führen Sie die Zelle aus, indem sie die Zelle anklicken und dann **strg+enter** drücken, oder den Run-Button in der Menüleiste oben.\n",
    "- Führen Sie anschließend die zweite Zelle aus. Es erscheint am unteren Ende der Zelle eine Eingabezeile. Tragen Sie dort einen Wert zwischen 1 km und 40 km für die Mächtigkeit des Krustenblocks ein.\n",
    "- Sie können fortfahren und weitere Werte in das Eingabefeld eingeben.\n",
    "\n",
    "**Beantworten Sie folgende Fragen:**\n",
    "\n",
    "- Wie verändert sich das Verhältnis zwischen Eindringtiefe (depth) und dem Anteil der Kruste oberhalb des Matelozeans (height) für sich ändernde Mächtigkeiten (1km, 20km, 40km)?\n",
    "- Unterscheidet sich die Änderung dieses Verhältnisses zum Beispiel mit dem Eisberg? Warum, oder warum nicht?\n",
    "\n",
    "\n"
   ]
  },
  {
   "cell_type": "code",
   "execution_count": 2,
   "metadata": {},
   "outputs": [
    {
     "name": "stdout",
     "output_type": "stream",
     "text": [
      "Done, Move on to the next cell.\n"
     ]
    }
   ],
   "source": [
    "import numpy as np\n",
    "import matplotlib.pyplot as plt\n",
    "\n",
    "rho_crust = 2850 # kg/m^3\n",
    "rho_mantle = 4000 # kg/m^3\n",
    "print('Done, Move on to the next cell.')"
   ]
  },
  {
   "cell_type": "code",
   "execution_count": 3,
   "metadata": {},
   "outputs": [
    {
     "data": {
      "image/png": "[encoded data removed]",
      "text/plain": [
       "<Figure size 648x504 with 1 Axes>"
      ]
     },
     "metadata": {},
     "output_type": "display_data"
    },
    {
     "name": "stdout",
     "output_type": "stream",
     "text": [
      "Enter a Crustal Thickness between 1 and 40 km: \n",
      "30\n",
      "Now Plotting: 30.0 km\n",
      "Enter a number outside of the provided range to exit the simulation when ready.\n",
      "Enter a Crustal Thickness between 1 and 40 km: \n",
      "999\n",
      "The Simulation is Complete, Consider the Key Questions\n"
     ]
    }
   ],
   "source": [
    "\n",
    "def iceberg_isos(rho_w,rho_i,T):\n",
    "    depth = (rho_i / rho_w) * T\n",
    "    height = T - depth\n",
    "    return -depth, height\n",
    "\n",
    "handle = display(None, display_id=True)\n",
    "x = np.arange(-25,25) # Horizontal distance in the Graph\n",
    "\n",
    "\n",
    "bbox = dict(boxstyle =\"round\", fc = '1') \n",
    "fig, ax = plt.subplots(figsize = (9,7))\n",
    "ax.hlines(0,-25,-10,color='red')\n",
    "ax.hlines(0,10,25,color='red')\n",
    "ax.fill_betweenx((0,-50),-25,-10,color = 'red')\n",
    "ax.fill_betweenx((0,-50),10,25,color = 'red')\n",
    "ax.set_xlim(-25,25)\n",
    "ax.set_title('Crust-Mantle Ocean Isostasy')\n",
    "ax.set_ylabel('Elevation (km)')\n",
    "ax.set_xlabel('Distance from the Center of the Crustal Block (km)')\n",
    "ax.set_ylim(-40,20)\n",
    "ax.annotate('Air',(18,3))\n",
    "print('Enter a Crustal Thickness between 1 and 40 km: ')\n",
    "T = float(input())\n",
    "while T< 1 or T > 40:\n",
    "    print('Invalid Thickness, please enter a number between 1 and 40 km')\n",
    "    T = float(input())\n",
    "while T >= 1 and T <= 40:\n",
    "    print('Now Plotting:',T,'km')\n",
    "    T *= 1000\n",
    "    depth, height = iceberg_isos(rho_mantle,rho_crust,T)\n",
    "    height /= 1000\n",
    "    depth /= 1000\n",
    "    crust_bottom = ax.hlines(depth,-10,10,color = 'black')\n",
    "    crust_top = ax.hlines(height,-10,10,color = 'black')\n",
    "    crust_left = ax.vlines(-10,depth,height,color='black')\n",
    "    crust_right = ax.vlines(10,depth,height,color='black')\n",
    "    crust_fill = ax.fill_betweenx((depth,height),-10,10,color='tan',label = 'Crust')\n",
    "    below_crust = ax.fill_betweenx((-50,depth),-10,10,color='red',label = 'Mantle')\n",
    "    depth_label = ax.annotate('Depth = '+'{:.2f}'.format(-depth)+' km',(-5,depth/2),bbox=bbox)\n",
    "    height_label = ax.annotate('Height = '+'{:.2f}'.format(height)+' km',(-23,15),bbox=bbox)\n",
    "    ax.legend(bbox_to_anchor=(1.3, 0.5))\n",
    "    handle.update(fig)\n",
    "    crust_bottom.remove()\n",
    "    crust_top.remove()\n",
    "    crust_left.remove()\n",
    "    crust_right.remove()\n",
    "    crust_fill.remove()\n",
    "    below_crust.remove()\n",
    "    depth_label.remove()\n",
    "    height_label.remove()\n",
    "    print('Enter a number outside of the provided range to exit the simulation when ready.')\n",
    "    print('Enter a Crustal Thickness between 1 and 40 km: ')\n",
    "    T = float(input())\n",
    "plt.close()\n",
    "print('The Simulation is Complete, Consider the Key Questions')"
   ]
  }
 ],
 "metadata": {
  "kernelspec": {
   "display_name": "Python 3",
   "language": "python",
   "name": "python3"
  },
  "language_info": {
   "codemirror_mode": {
    "name": "ipython",
    "version": 3
   },
   "file_extension": ".py",
   "mimetype": "text/x-python",
   "name": "python",
   "nbconvert_exporter": "python",
   "pygments_lexer": "ipython3",
   "version": "3.7.4"
  }
 },
 "nbformat": 4,
 "nbformat_minor": 2
}
