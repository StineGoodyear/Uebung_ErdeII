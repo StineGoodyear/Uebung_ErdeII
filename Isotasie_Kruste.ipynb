{
 "cells": [
  {
   "cell_type": "markdown",
   "metadata": {},
   "source": [
    "# Interaktives Beispiel: Isostasieprinzip kontinentale Kruste und ozeanische Kruste\n",
    "\n",
    "Dieses Jupyter Notebook berechnet die Eindringtiefe von kontinentaler und ozeanischer Kruste bei konstanter Mächtigkeit des kontinentalen Krustenblocks und variierender Mächtigkeit der des ozeanischen Krustenblocks. \n",
    "In der ersten Zelle werden die Dichten der Kustenblöcke und des Mantels definiert, sowie die Machtigkeit des kontinentalen Kurstenblocks und der Wassersäule. \n",
    "\n",
    "- Führen Sie die Zelle aus, indem sie die Zelle anklicken und dann **strg+enter** drücken, oder den Run-Button in der Menüleiste oben.\n",
    "- Führen Sie anschließend die zweite Zelle aus. Es erscheint am unteren Ende der Zelle eine Eingabezeile. Tragen Sie dort einen Wert zwischen 1 km und 40 km für die Mächtigkeit der ozeanischen Kruste ein.\n",
    "- Sie können fortfahren und weitere Werte in das Eingabefeld eingeben.\n",
    "\n",
    "**Beantworten Sie folgende Fragen:**\n",
    "- Wie verändert dich die Höhe (height) des kontinentalen Blocks mit zunehmender Mächtigkeit der kontinentalen Kruste?\n",
    "- Wie beeinflusst die Mächtigkeit der ozeanischen Kruste das Höhen/Tiefen-Verhältnis (height/depth)? Verwenden Sie dafür die Mächtigkeiten von 1 km, 5 km und 20 km!\n"
   ]
  },
  {
   "cell_type": "code",
   "execution_count": 1,
   "metadata": {},
   "outputs": [
    {
     "name": "stdout",
     "output_type": "stream",
     "text": [
      "Done, Move on to the next cell.\n"
     ]
    }
   ],
   "source": [
    "import numpy as np\n",
    "import matplotlib.pyplot as plt\n",
    "\n",
    "rho_air = 1 # kg/m^3\n",
    "rho_mantle = 3300 # kg/m^3\n",
    "rho_crust = 2900 # kg/m^3\n",
    "rho_oc = 3000 # kg/m^3\n",
    "h_c = 35 # km\n",
    "h_w = 4 # km\n",
    "rho_water = 1030 # kg/m^3\n",
    "print('Done, Move on to the next cell.')"
   ]
  },
  {
   "cell_type": "code",
   "execution_count": 2,
   "metadata": {},
   "outputs": [
    {
     "name": "stdout",
     "output_type": "stream",
     "text": [
      "Please enter the thickness of the oceanic crust between 1 and 40 km\n",
      "1\n"
     ]
    },
    {
     "data": {
      "image/png": "[encoded data removed]",
      "text/plain": [
       "<Figure size 648x504 with 1 Axes>"
      ]
     },
     "metadata": {},
     "output_type": "display_data"
    },
    {
     "name": "stdout",
     "output_type": "stream",
     "text": [
      "Now plotting a oceanic crust thickness of 1.0 km\n",
      "You may exit the simulation when ready by entering a number outside the range\n",
      "Please enter the thickness of the oceanic crust between 1 and 40 km\n",
      "5\n",
      "Now plotting a oceanic crust thickness of 5.0 km\n",
      "You may exit the simulation when ready by entering a number outside the range\n",
      "Please enter the thickness of the oceanic crust between 1 and 40 km\n",
      "20\n",
      "Now plotting a oceanic crust thickness of 20.0 km\n",
      "You may exit the simulation when ready by entering a number outside the range\n",
      "Please enter the thickness of the oceanic crust between 1 and 40 km\n",
      "1\n",
      "Now plotting a oceanic crust thickness of 1.0 km\n",
      "You may exit the simulation when ready by entering a number outside the range\n",
      "Please enter the thickness of the oceanic crust between 1 and 40 km\n",
      "5\n",
      "Now plotting a oceanic crust thickness of 5.0 km\n",
      "You may exit the simulation when ready by entering a number outside the range\n",
      "Please enter the thickness of the oceanic crust between 1 and 40 km\n",
      "20\n",
      "Now plotting a oceanic crust thickness of 20.0 km\n",
      "You may exit the simulation when ready by entering a number outside the range\n",
      "Please enter the thickness of the oceanic crust between 1 and 40 km\n",
      "23\n",
      "Now plotting a oceanic crust thickness of 23.0 km\n",
      "You may exit the simulation when ready by entering a number outside the range\n",
      "Please enter the thickness of the oceanic crust between 1 and 40 km\n",
      "7.5\n",
      "Now plotting a oceanic crust thickness of 7.5 km\n",
      "You may exit the simulation when ready by entering a number outside the range\n",
      "Please enter the thickness of the oceanic crust between 1 and 40 km\n",
      "988\n",
      "The simulation is complete. Consider the key questions.\n"
     ]
    }
   ],
   "source": [
    "def isostasy(rho_a,rho_m,rho_c,rho_oc,h_c,h_oc,rho_w,h_w):\n",
    "    h_a = ((h_c*(rho_m - rho_c)) - (h_w*(rho_m - rho_w)) - (h_oc*(rho_m - rho_oc))) / (rho_m - rho_a)\n",
    "    h_m = h_c - h_oc - h_a - h_w\n",
    "    return h_a, h_m\n",
    "\n",
    "print('Please enter the thickness of the oceanic crust between 1 and 40 km')\n",
    "h_oc = float(input())\n",
    "while h_oc < 1 or h_oc > 40:\n",
    "    print('Invalid thickness, enter a number between 1 and 40 km')\n",
    "    h_oc = float(input())\n",
    "    \n",
    "bbox = dict(boxstyle =\"round\", fc = '1') \n",
    "\n",
    "handle = display(None, display_id=True)\n",
    "fig, ax = plt.subplots(figsize = (9,7))\n",
    "ax.set_xlim(-25,25)\n",
    "ax.set_ylim(-50,20)\n",
    "ax.annotate('Air',(18,14))\n",
    "ax.set_title('Continental Isostasy')\n",
    "ax.set_xlabel('Distance from the Center of the Continent (km)')\n",
    "ax.set_ylabel('Elevation (km)')\n",
    "while h_oc >= 1 and h_oc <= 40:\n",
    "    print('Now plotting a oceanic crust thickness of',h_oc,'km')\n",
    "    h_a,h_m, = isostasy(rho_air,rho_mantle,rho_crust,rho_oc,h_c,h_oc,rho_water,h_w)\n",
    "    center_crust = ax.fill_betweenx((h_a-h_c,h_a),-10,10,color='tan',label = 'Crust')\n",
    "    water_right = ax.fill_betweenx((0,-h_w),10,25,color='blue',label = 'Water/Ocean')\n",
    "    water_left = ax.fill_betweenx((0,-h_w),-25,-10,color='blue')\n",
    "    o_crust_left = ax.fill_betweenx((-h_w,-h_w-h_oc),-25,-10,color='tan')\n",
    "    o_crust_right = ax.fill_betweenx((-h_w,-h_w-h_oc),10,25,color='tan')\n",
    "    mantle_left = ax.fill_betweenx((-h_w-h_oc,-1000),-25,-10,color='red',label = 'Lithospheric Mantle')\n",
    "    mantle_right = ax.fill_betweenx((-h_w-h_oc,-1000),10,25,color='red')\n",
    "    mantle_center = ax.fill_betweenx((h_a-h_c,-1000),-10,10,color='red')\n",
    "    outline_top = ax.hlines(h_a,-10,10,color='black')\n",
    "    outline_bottom = ax.hlines(h_a-h_c,-10,10)\n",
    "    outline_right = ax.vlines(-10,h_a-h_c,h_a)\n",
    "    outline_left = ax.vlines(10,h_a-h_c,h_a)\n",
    "    outline_left_oc = ax.hlines(-h_w,-25,-10)\n",
    "    outline_right_oc = ax.hlines(-h_w,10,25)\n",
    "    outline_bot_left_oc = ax.hlines(-h_w-h_oc,-25,-10)\n",
    "    outline_bot_right_oc = ax.hlines(-h_w-h_oc,10,25)\n",
    "    outline_oc_outer_right = ax.vlines(25,-h_w,-h_w-h_oc)\n",
    "    outline_oc_outer_left = ax.vlines(-25,-h_w,-h_w-h_oc)\n",
    "    if h_a < 0:\n",
    "      top_ocean = ax.fill_betweenx((0,h_a),-10,10,color='blue')\n",
    "      right_outline = ax.vlines(10,h_a-h_c,-h_w-h_oc)\n",
    "      left_outline = ax.vlines(-10,h_a-h_c,-h_w-h_oc)\n",
    "    depth_label = ax.annotate('Depth = '+'{:.2f}'.format(-(h_a-h_c))+' km',(-5,(h_a-h_c)/2),bbox=bbox)\n",
    "    height_label = ax.annotate('Height = '+'{:.2f}'.format(h_a)+' km',(-23,15),bbox=bbox)\n",
    "    thickness_label = ax.annotate('h_oc = '+'{:.2f}'.format(h_oc)+' km',(-23,(-h_w-h_oc/2)),bbox=bbox)\n",
    "    ax.legend(bbox_to_anchor=(1.3, 0.5))\n",
    "    handle.update(fig)\n",
    "    if h_a < 0:\n",
    "      top_ocean.remove()\n",
    "      right_outline.remove()\n",
    "      left_outline.remove()\n",
    "    center_crust.remove()\n",
    "    water_right.remove()\n",
    "    water_left.remove()\n",
    "    o_crust_left.remove()\n",
    "    o_crust_right.remove()\n",
    "    mantle_left.remove()\n",
    "    mantle_right.remove()\n",
    "    mantle_center.remove()\n",
    "    outline_top.remove()\n",
    "    outline_bottom.remove()\n",
    "    outline_right.remove()\n",
    "    outline_left.remove()\n",
    "    outline_left_oc.remove()\n",
    "    outline_right_oc.remove()\n",
    "    outline_bot_left_oc.remove()\n",
    "    outline_bot_right_oc.remove()\n",
    "    outline_oc_outer_right.remove()\n",
    "    outline_oc_outer_left.remove()\n",
    "    depth_label.remove()\n",
    "    height_label.remove()\n",
    "    thickness_label.remove()\n",
    "    print('You may exit the simulation when ready by entering a number outside the range')\n",
    "    print('Please enter the thickness of the oceanic crust between 1 and 40 km')\n",
    "    h_oc = float(input())\n",
    "plt.close()\n",
    "\n",
    "print('The simulation is complete. Consider the key questions.')"
   ]
  }
 ],
 "metadata": {
  "kernelspec": {
   "display_name": "Python 3",
   "language": "python",
   "name": "python3"
  },
  "language_info": {
   "codemirror_mode": {
    "name": "ipython",
    "version": 3
   },
   "file_extension": ".py",
   "mimetype": "text/x-python",
   "name": "python",
   "nbconvert_exporter": "python",
   "pygments_lexer": "ipython3",
   "version": "3.7.4"
  }
 },
 "nbformat": 4,
 "nbformat_minor": 2
}
