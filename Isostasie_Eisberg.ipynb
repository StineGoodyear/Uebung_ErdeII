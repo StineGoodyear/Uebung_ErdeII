{
 "cells": [
  {
   "cell_type": "markdown",
   "metadata": {},
   "source": [
    "Isostasy Jupyter Notebook. (2020, August 20). Retrieved April 21, 2021, from https://geo.libretexts.org/@go/page/11678"
   ]
  },
  {
   "cell_type": "markdown",
   "metadata": {},
   "source": [
    "# Interaktives Beispiel: Isostasieprinzip Eisberg in Wasser\n",
    "\n",
    "Dieses Jupyter Notebook berechnet die Eindringtiefe eines Eisbergs variierender Mächtigkeit in Wasser. \n",
    "In der ersten Zelle werden die Dichten des Eises und des Wassers definiert. \n",
    "\n",
    "- Führen Sie die Zelle aus, indem sie die Zelle anklicken und dann **strg+enter** drücken, oder den Run-Button in der Menüleiste oben.\n",
    "- Führen Sie anschließend die zweite Zelle aus. Es erscheint am unteren Ende der Zelle eine Eingabezeile. Tragen Sie dort einen Wert zwischen 1 m und 100 m für die Mächtigkeit des Eisberges ein.\n",
    "- Sie können fortfahren und weitere Werte in das Eingabefeld eingeben.\n",
    "\n",
    "**Beantworten Sie folgende Fragen:**\n",
    "- Ist der Anteil vom Eisberg, der aus dem Wasser heraus ragt größer oder kleiner als der Anteil, der in das Wasser eindringt?\n",
    "- Wie verändert sich das Verhältnis zwischen Eindringtiefe (depth) und dem Anteil oberhalb des Wasserspiegels (height) für sich ändernde Mächtigkeiten (10m, 60m, 100m)?\n",
    "- Die Kombination welcher Parameter bestimmt dieses Verhältnis?\n",
    "\n",
    "\n"
   ]
  },
  {
   "cell_type": "code",
   "execution_count": 1,
   "metadata": {},
   "outputs": [
    {
     "name": "stdout",
     "output_type": "stream",
     "text": [
      "Done, Move on to the next cell.\n"
     ]
    }
   ],
   "source": [
    "import numpy as np\n",
    "import matplotlib.pyplot as plt\n",
    "rho_w = 1028 #kg/m^3\n",
    "rho_i = 917 #kg/m^3\n",
    "print('Done, Move on to the next cell.')"
   ]
  },
  {
   "cell_type": "code",
   "execution_count": 2,
   "metadata": {},
   "outputs": [
    {
     "data": {
      "image/png": "[encoded data removed]",
      "text/plain": [
       "<Figure size 648x504 with 1 Axes>"
      ]
     },
     "metadata": {},
     "output_type": "display_data"
    },
    {
     "name": "stdout",
     "output_type": "stream",
     "text": [
      "Enter a Iceberg Thickness between 1 and 100 m: \n",
      "50\n",
      "Now Plotting: 50.0 m\n",
      "Enter a number outside of the provided range to exit the simulation when ready.\n",
      "Enter an Iceberg Thickness between 1 and 100 m to continue: \n",
      "20\n",
      "Now Plotting: 20.0 m\n",
      "Enter a number outside of the provided range to exit the simulation when ready.\n",
      "Enter an Iceberg Thickness between 1 and 100 m to continue: \n",
      "99\n",
      "Now Plotting: 99.0 m\n",
      "Enter a number outside of the provided range to exit the simulation when ready.\n",
      "Enter an Iceberg Thickness between 1 and 100 m to continue: \n",
      "10 \n",
      "Now Plotting: 10.0 m\n",
      "Enter a number outside of the provided range to exit the simulation when ready.\n",
      "Enter an Iceberg Thickness between 1 and 100 m to continue: \n",
      "60\n",
      "Now Plotting: 60.0 m\n",
      "Enter a number outside of the provided range to exit the simulation when ready.\n",
      "Enter an Iceberg Thickness between 1 and 100 m to continue: \n",
      "100\n",
      "Now Plotting: 100.0 m\n",
      "Enter a number outside of the provided range to exit the simulation when ready.\n",
      "Enter an Iceberg Thickness between 1 and 100 m to continue: \n",
      "9999\n"
     ]
    }
   ],
   "source": [
    "def iceberg_isos(rho_w,rho_i,T):\n",
    "    depth = (rho_i / rho_w) * T\n",
    "    height = T - depth\n",
    "    return -depth, height\n",
    "\n",
    "handle = display(None, display_id=True)\n",
    "x = np.arange(-25,25) # Horizontal distance in the Graph\n",
    "\n",
    "bbox = dict(boxstyle =\"round\", fc = '1') \n",
    "fig, ax = plt.subplots(figsize = (9,7))\n",
    "ax.hlines(0,-25,-10,color='blue')\n",
    "ax.hlines(0,10,25,color='blue')\n",
    "ax.fill_betweenx((0,-100),-25,-10,color = 'blue')\n",
    "ax.fill_betweenx((0,-100),10,25,color = 'blue')\n",
    "ax.set_xlim(-25,25)\n",
    "ax.set_title('Iceberg Isostasy')\n",
    "ax.set_ylabel('Elevation (m)')\n",
    "ax.set_xlabel('Distance from the Center of the Iceberg (m)')\n",
    "ax.set_ylim(-100,15)\n",
    "ax.annotate('Air',(18,3))\n",
    "print('Enter a Iceberg Thickness between 1 and 100 m: ')\n",
    "T = float(input())\n",
    "while T< 1 or T > 100:\n",
    "    print('Invalid Thickness, please enter a number between 1 and 100 km')\n",
    "    T = float(input())\n",
    "while T >= 1 and T <= 100:\n",
    "    print('Now Plotting:', T, 'm')\n",
    "    depth, height = iceberg_isos(rho_w,rho_i,T)\n",
    "    iceberg_bottom = ax.hlines(depth,-10,10,color = 'black')\n",
    "    iceberg_top = ax.hlines(height,-10,10,color = 'black')\n",
    "    iceberg_left = ax.vlines(-10,depth,height,color='black')\n",
    "    iceberg_right = ax.vlines(10,depth,height,color='black')\n",
    "    iceberg_fill = ax.fill_betweenx((depth,height),-10,10,color='lightsteelblue',label = 'Iceberg')\n",
    "    below_iceberg = ax.fill_betweenx((-100,depth),-10,10,color='blue',label = 'Water/Ocean')\n",
    "    depth_label = ax.annotate('Depth = '+'{:.2f}'.format(-depth)+' m',(-5,depth/2),bbox=bbox)\n",
    "    height_label = ax.annotate('Height = '+'{:.2f}'.format(height)+' m',(-23,8),bbox=bbox)\n",
    "    ax.legend(bbox_to_anchor=(1.3, 0.5))\n",
    "    handle.update(fig)\n",
    "    iceberg_bottom.remove()\n",
    "    iceberg_top.remove()\n",
    "    iceberg_left.remove()\n",
    "    iceberg_right.remove()\n",
    "    iceberg_fill.remove()\n",
    "    below_iceberg.remove()\n",
    "    depth_label.remove()\n",
    "    height_label.remove()\n",
    "    print('Enter a number outside of the provided range to exit the simulation when ready.')\n",
    "    print('Enter an Iceberg Thickness between 1 and 100 m to continue: ')\n",
    "    T = float(input())\n",
    "plt.close()\n",
    "#print('The Simulation is Complete, Consider the Key Questions')"
   ]
  }
 ],
 "metadata": {
  "kernelspec": {
   "display_name": "Python 3",
   "language": "python",
   "name": "python3"
  },
  "language_info": {
   "codemirror_mode": {
    "name": "ipython",
    "version": 3
   },
   "file_extension": ".py",
   "mimetype": "text/x-python",
   "name": "python",
   "nbconvert_exporter": "python",
   "pygments_lexer": "ipython3",
   "version": "3.7.4"
  }
 },
 "nbformat": 4,
 "nbformat_minor": 2
}
